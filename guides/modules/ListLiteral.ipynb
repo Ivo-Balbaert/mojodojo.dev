{
 "cells": [
  {
   "attachments": {},
   "cell_type": "markdown",
   "metadata": {},
   "source": [
    "---\n",
    "title: ListLiteral\n",
    "categories: Builtins\n",
    "usage: The primitive ListLiteral class in Mojo\n",
    "---\n",
    "\n",
    "Contributed by [StitchyPie](https://github.com/StitchyPie)\n",
    "\n",
    "# ListLiteral\n",
    "The primitive ListLiteral class in Mojo."
   ]
  },
  {
   "attachments": {},
   "cell_type": "markdown",
   "metadata": {},
   "source": [
    "A ListLiteral, as the name suggests, is a type of data structure representing a list of elements that are immutable, meaning once the list is created, it cannot be altered. This immutability is underlined by its design, which includes only getter methods for accessing elements, with no provision for setters to modify elements post-initialization. Hence, a ListLiteral is essentially a read-only list."
   ]
  },
  {
   "attachments": {},
   "cell_type": "markdown",
   "metadata": {},
   "source": [
    "# init\n",
    "You can initialize a ListLiteral much like in Python, or you can explicitly specify the type of each element using parameterization."
   ]
  },
  {
   "cell_type": "code",
   "execution_count": 5,
   "metadata": {
    "vscode": {
     "languageId": "python"
    }
   },
   "outputs": [
    {
     "name": "stdout",
     "output_type": "stream",
     "text": [
      "[1, 2, 3]\n",
      "[1, 2, 3]\n"
     ]
    }
   ],
   "source": [
    "let python_list = [1,2,3]\n",
    "print(python_list)\n",
    "\n",
    "let explicit_list: ListLiteral[Int, Int, Int] = [1, 2, 3]\n",
    "print(explicit_list)"
   ]
  },
  {
   "attachments": {},
   "cell_type": "markdown",
   "metadata": {},
   "source": [
    "A ListLiteral can also contain element of different types."
   ]
  },
  {
   "cell_type": "code",
   "execution_count": 6,
   "metadata": {
    "vscode": {
     "languageId": "python"
    }
   },
   "outputs": [
    {
     "name": "stdout",
     "output_type": "stream",
     "text": [
      "[1, 2.0, True]\n"
     ]
    }
   ],
   "source": [
    "let mixed_list: ListLiteral[Int, FloatLiteral, Bool] = [1, 2.0, True]\n",
    "print(mixed_list)"
   ]
  },
  {
   "attachments": {},
   "cell_type": "markdown",
   "metadata": {},
   "source": [
    "# len\n",
    "\n",
    "ListLiteral also implements the \\_\\_len\\_\\_ and get functions."
   ]
  },
  {
   "cell_type": "code",
   "execution_count": 7,
   "metadata": {
    "vscode": {
     "languageId": "python"
    }
   },
   "outputs": [
    {
     "name": "stdout",
     "output_type": "stream",
     "text": [
      "3\n"
     ]
    }
   ],
   "source": [
    "print(mixed_list.__len__())"
   ]
  },
  {
   "attachments": {},
   "cell_type": "markdown",
   "metadata": {},
   "source": [
    "# get"
   ]
  },
  {
   "attachments": {},
   "cell_type": "markdown",
   "metadata": {},
   "source": [
    "Get a list element at the given index and the element type."
   ]
  },
  {
   "cell_type": "code",
   "execution_count": 8,
   "metadata": {
    "vscode": {
     "languageId": "python"
    }
   },
   "outputs": [
    {
     "name": "stdout",
     "output_type": "stream",
     "text": [
      "1\n",
      "True\n"
     ]
    }
   ],
   "source": [
    "print(mixed_list.get[0, Int]())\n",
    "print(mixed_list.get[2, Bool]())"
   ]
  }
 ],
 "metadata": {
  "kernelspec": {
   "display_name": "Mojo",
   "language": "mojo",
   "name": "mojo-jupyter-kernel"
  },
  "language_info": {
   "codemirror_mode": {
    "name": "mojo"
   },
   "file_extension": ".mojo",
   "mimetype": "text/x-mojo",
   "name": "mojo"
  },
  "orig_nbformat": 4
 },
 "nbformat": 4,
 "nbformat_minor": 2
}
