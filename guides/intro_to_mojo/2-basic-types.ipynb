{
    "cells": [
        {
            "attachments": {},
            "cell_type": "markdown",
            "metadata": {
                "slideshow": {
                    "slide_type": "skip"
                }
            },
            "source": [
                "---\n",
                "title: '2: Basic Types'\n",
                "category: '1: Setup'\n",
                "usage: Some basic types to get you started with Mojo\n",
                "---\n",
                "\n",
                "# Basic Types\n",
                "_This is in very early stages and under heavy development_\n",
                "\n",
                "## PythonObject\n",
                "Run code through the Python interpreter to get a [PythonObject](https://docs.modular.com/mojo/MojoPython/PythonObject.html) back:"
            ]
        },
        {
            "cell_type": "code",
            "execution_count": 1,
            "metadata": {},
            "outputs": [
                {
                    "name": "stdout",
                    "output_type": "stream",
                    "text": [
                        "15\n"
                    ]
                }
            ],
            "source": [
                "x = Python.evaluate('5 + 10')\n",
                "print(x)"
            ]
        },
        {
            "attachments": {},
            "cell_type": "markdown",
            "metadata": {},
            "source": [
                "The first line is executed the exact same way as if we ran this in Python:\n",
                "\n",
                "```python\n",
                "x = 5 + 10\n",
                "```"
            ]
        },
        {
            "attachments": {},
            "cell_type": "markdown",
            "metadata": {},
            "source": [
                "The code is parsed and compiled to byte code, then CPython executes the instruction, `x` is actually a pointer to `heap` allocated memory.\n",
                "\n",
                "::: tip CS Fundamentals\n",
                "`stack` and `heap` memory are really important concepts to understand, [this YouTube video](https://www.youtube.com/watch?v=_8-ht2AKyH4) does a fantastic job of explaining it visually. \n",
                "\n",
                "If the video doesn't make sense, for now you can use the mental model that:\n",
                "\n",
                "- `stack` memory is very fast but small, the size of the values must be known at runtime\n",
                "- `pointer` is an address to lookup the value somewhere else in memory\n",
                "- `heap` memory is huge and the size can change at runtime, but needs a pointer to access the data which is slow\n",
                "\n",
                "We'll be revisiting these concepts a lot, don't worry if it's not clicking yet.\n",
                ":::\n",
                "\n",
                "We can access all the Python keywords by importing `builtins`:"
            ]
        },
        {
            "cell_type": "code",
            "execution_count": 2,
            "metadata": {},
            "outputs": [
                {
                    "name": "stdout",
                    "output_type": "stream",
                    "text": [
                        "using python keywords\n"
                    ]
                }
            ],
            "source": [
                "let py = Python.import_module(\"builtins\")\n",
                "\n",
                "py.print(\"using python keywords\")"
            ]
        },
        {
            "attachments": {},
            "cell_type": "markdown",
            "metadata": {},
            "source": [
                "We can now use the `type` builtin from Python to see what the dynamic type of `x` was:"
            ]
        },
        {
            "cell_type": "code",
            "execution_count": 3,
            "metadata": {},
            "outputs": [
                {
                    "name": "stdout",
                    "output_type": "stream",
                    "text": [
                        "<class 'int'>\n"
                    ]
                }
            ],
            "source": [
                "py.print(py.type(x))"
            ]
        },
        {
            "attachments": {},
            "cell_type": "markdown",
            "metadata": {},
            "source": [
                "We can also read the address that is stored on the `stack` which allows us to read memory on the `heap` with the Python `id` builtin:"
            ]
        },
        {
            "cell_type": "code",
            "execution_count": 4,
            "metadata": {},
            "outputs": [
                {
                    "name": "stdout",
                    "output_type": "stream",
                    "text": [
                        "140411432053024\n"
                    ]
                }
            ],
            "source": [
                "py.print(py.id(x))"
            ]
        },
        {
            "attachments": {},
            "cell_type": "markdown",
            "metadata": {},
            "source": [
                "This is pointing to a C object in Python, and Mojo behaves the same when using a `PythonObject`, accessing the value actually uses the address to lookup the data on the `heap` which comes with a performance cost. \n",
                "\n",
                "Lets dive into this a little more.\n",
                "\n",
                "## Stack\n",
                "This is the fast access section of memory that is allocated to your computers RAM, take a simple program:\n",
                "\n",
                "_the `%%python` below means the cell runs through the Python interpreter_"
            ]
        },
        {
            "cell_type": "code",
            "execution_count": 5,
            "metadata": {},
            "outputs": [],
            "source": [
                "%%python\n",
                "def double(a):\n",
                "    return a * 2 \n",
                "\n",
                "def quad(a):\n",
                "    return a * 4 \n",
                "\n",
                "a = 1\n",
                "\n",
                "a = double(a)\n",
                "a = quad(a)"
            ]
        },
        {
            "attachments": {},
            "cell_type": "markdown",
            "metadata": {},
            "source": [
                "If we represent the instructions in pseudo code, this is a simplified version of what your `stack` memory would look like as the program runs:"
            ]
        },
        {
            "cell_type": "code",
            "execution_count": 6,
            "metadata": {},
            "outputs": [
                {
                    "name": "stdout",
                    "output_type": "stream",
                    "text": [
                        "[{'a': 1, 'frame': 'main', 'function_calls': ['double(a)', 'quad(a)']},\n",
                        " {'a': 1, 'frame': 'add'}]\n"
                    ]
                }
            ],
            "source": [
                "%%python\n",
                "from pprint import pprint\n",
                "\n",
                "stack = []\n",
                "stack.append({\"frame\": \"main\", \"a\": 1, \"function_calls\": [\"double(a)\", \"quad(a)\"]})\n",
                "stack.append({\"frame\": \"add\", \"a\": 1})\n",
                "\n",
                "pprint(stack)"
            ]
        },
        {
            "attachments": {},
            "cell_type": "markdown",
            "metadata": {},
            "source": [
                "The program starts by allocating variables from `main` to the `stack` memory, the first function is `add` so it is then appended to the stack.\n",
                "\n",
                "When it's finished running and returns the result, all the variables in `add` are popped off the stack:"
            ]
        },
        {
            "cell_type": "code",
            "execution_count": 7,
            "metadata": {},
            "outputs": [
                {
                    "name": "stdout",
                    "output_type": "stream",
                    "text": [
                        "[{'frame': 'main', 'a': 2, 'function_calls': ['double(a)', 'quad(a)']}]\n"
                    ]
                }
            ],
            "source": [
                "%%python\n",
                "stack.pop()\n",
                "stack[0][\"a\"] *= 2\n",
                "print(stack)"
            ]
        },
        {
            "attachments": {},
            "cell_type": "markdown",
            "metadata": {},
            "source": [
                "This is why a `stack` is called Last In First Out (LIFO), because the `last` function to be allocated is the first one `out` of the stack.\n",
                "\n",
                "The next function calls `quad` and the variable is appended to the stack memory and runs, it then returns while updating `a` and being popped off the stack, then `main` is popped off the stack as there are no more instructions to run which ends the program:"
            ]
        },
        {
            "cell_type": "code",
            "execution_count": 8,
            "metadata": {},
            "outputs": [
                {
                    "name": "stdout",
                    "output_type": "stream",
                    "text": [
                        "[]\n"
                    ]
                }
            ],
            "source": [
                "%%python\n",
                "stack.append({\"frame\": \"quad\", \"a\": 2})\n",
                "stack[0][\"a\"] *= 4\n",
                "stack.pop()\n",
                "stack.pop()\n",
                "print(stack)"
            ]
        },
        {
            "attachments": {},
            "cell_type": "markdown",
            "metadata": {},
            "source": [
                "## Heap"
            ]
        },
        {
            "attachments": {},
            "cell_type": "markdown",
            "metadata": {},
            "source": [
                "The Heap memory is huge, it can use the remainder of the available RAM on your OS, Python uses it for every object to provide us with conveniences, `a` in the previous example doesn't actually contain the value `1` at the start of the program, it contains an address to another place in memory on the heap:"
            ]
        },
        {
            "cell_type": "code",
            "execution_count": 9,
            "metadata": {},
            "outputs": [],
            "source": [
                "%%python\n",
                "\n",
                "heap = {\n",
                "    44601345678945: {\n",
                "        \"type\": \"int\",\n",
                "        \"ref_count\": 1,\n",
                "        \"size\": 1,\n",
                "        \"digit\": 8,\n",
                "        #...\n",
                "    }\n",
                "}"
            ]
        },
        {
            "attachments": {},
            "cell_type": "markdown",
            "metadata": {},
            "source": [
                "So on the stack `a` looks more like this for each frame:"
            ]
        },
        {
            "cell_type": "code",
            "execution_count": 10,
            "metadata": {},
            "outputs": [],
            "source": [
                "%%python\n",
                "\n",
                "[\n",
                "    {\"frame\": \"main\", \"a\": 44601345678945 }\n",
                "]"
            ]
        },
        {
            "attachments": {},
            "cell_type": "markdown",
            "metadata": {},
            "source": [
                "`a` contains an address that is pointing to the heap object\n",
                "\n",
                "In Python we can change the type like:"
            ]
        },
        {
            "cell_type": "code",
            "execution_count": 11,
            "metadata": {},
            "outputs": [],
            "source": [
                "a = \"mojo\""
            ]
        },
        {
            "attachments": {},
            "cell_type": "markdown",
            "metadata": {},
            "source": [
                "The object in C will change its representation:"
            ]
        },
        {
            "cell_type": "code",
            "execution_count": 12,
            "metadata": {},
            "outputs": [],
            "source": [
                "%%python\n",
                "heap = {\n",
                "    \"a\": {\n",
                "        \"type\": \"string\",\n",
                "        \"ref_count\": 1,\n",
                "        \"size\": 4,\n",
                "        \"ascii\": True,\n",
                "        # utf-8 / ascii for \"mojo\"\n",
                "        \"value\": [109, 111, 106, 111]\n",
                "        # ...\n",
                "    }\n",
                "}"
            ]
        },
        {
            "attachments": {},
            "cell_type": "markdown",
            "metadata": {},
            "source": [
                "This allows Python to do nice convenient things for us\n",
                "- once the `ref_count` goes to zero it will be de-allocated from the heap during garbage collection, so the OS can use that memory for something else\n",
                "- an integer can grow beyond 64 bits by increasing `size`\n",
                "- we can dynamically change the `type`\n",
                "- the data can be large or small, we don't have to think about when we should allocate to the heap\n",
                "\n",
                "However this also comes with a penalty, there is a lot more extra memory being used for the extra fields, and it also takes CPU instructions to allocate the data, retrieve it, garbage collect etc.\n",
                "\n",
                "In Mojo we can remove all that overhead:"
            ]
        },
        {
            "attachments": {},
            "cell_type": "markdown",
            "metadata": {},
            "source": [
                "## Mojo 🔥"
            ]
        },
        {
            "cell_type": "code",
            "execution_count": 13,
            "metadata": {},
            "outputs": [
                {
                    "name": "stdout",
                    "output_type": "stream",
                    "text": [
                        "15\n"
                    ]
                }
            ],
            "source": [
                "x = 5 + 10\n",
                "print(x)"
            ]
        },
        {
            "attachments": {},
            "cell_type": "markdown",
            "metadata": {},
            "source": [
                "We've just unlocked our first Mojo optimization! Instead of looking up an object on the heap via an address, `x` is now just a value on the stack with 64 bits that can be passed through registers.\n",
                "\n",
                "This has numerous performance implications:\n",
                "\n",
                "- All the expensive allocation, garbage collection, and indirection is no longer required\n",
                "- The compiler can do huge optimizations when it knows what the numeric type is\n",
                "- The value can be passed straight into registers for mathematical operations\n",
                "- The data can now be packed into a vector for huge performance gains\n",
                "\n",
                "That last one is very important in today's world, let's see how Mojo gives us the power to take advantage of modern hardware.\n",
                "\n",
                "## SIMD"
            ]
        },
        {
            "attachments": {},
            "cell_type": "markdown",
            "metadata": {},
            "source": [
                "SIMD stands for `Single Instruction, Multiple Data`, hardware now contains special registers that allow you do the same operation in a single instruction, greatly improving performance, let's take a look:"
            ]
        },
        {
            "cell_type": "code",
            "execution_count": 14,
            "metadata": {},
            "outputs": [
                {
                    "name": "stdout",
                    "output_type": "stream",
                    "text": [
                        "[1, 2, 3, 4]\n"
                    ]
                }
            ],
            "source": [
                "from DType import DType\n",
                "\n",
                "y = SIMD[DType.uint8, 4](1, 2, 3, 4)\n",
                "print(y)"
            ]
        },
        {
            "attachments": {},
            "cell_type": "markdown",
            "metadata": {},
            "source": [
                "In the definition `[DType.uint8, 4]` are known as parameters which means they're compile-time known, while `(1, 2, 3, 4)` are the arguments which can be compile-time or runtime known."
            ]
        },
        {
            "attachments": {},
            "cell_type": "markdown",
            "metadata": {},
            "source": [
                "This is now a vector of 8 bit numbers that are packed into 32 bits, we can perform a single instruction across all of it instead of 4 separate instructions:"
            ]
        },
        {
            "cell_type": "code",
            "execution_count": 15,
            "metadata": {},
            "outputs": [
                {
                    "name": "stdout",
                    "output_type": "stream",
                    "text": [
                        "[10, 20, 30, 40]\n"
                    ]
                }
            ],
            "source": [
                "y *= 10\n",
                "print(y)"
            ]
        },
        {
            "attachments": {},
            "cell_type": "markdown",
            "metadata": {},
            "source": [
                "::: tip CS Fundamentals\n",
                "Binary is how your computer stores memory, with each bit representing a `0` or `1`. Memory is typically byte-addressable, meaning that each unique memory address points to one byte, which consists of 8 bits.\n",
                "\n",
                "This is how the first 4 digits in a `uint8` are represented in hardware:\n",
                "\n",
                "- 1 = `00000001`\n",
                "- 2 = `00000010`\n",
                "- 3 = `00000011`\n",
                "- 4 = `00000100`\n",
                "\n",
                "In RAM, binary `1` and `0` represent charged or uncharged capacitors, indicating ON or OFF states.\n",
                "\n",
                "[Check this video](https://www.youtube.com/watch?v=RrJXLdv1i74) if you want more information on binary.\n",
                ":::\n",
                "\n",
                "We have room for 64 bits at each address though on a 64 bit CPU, So we're packing it into a single memory location with SIMD like this:\n",
                "\n",
                "`00000001``00000010``00000011``00000100`\n",
                "\n",
                "The register that can perform operations on this in modern CPU's is huge, let's see how big our SIMD register is:"
            ]
        },
        {
            "cell_type": "code",
            "execution_count": 16,
            "metadata": {},
            "outputs": [
                {
                    "name": "stdout",
                    "output_type": "stream",
                    "text": [
                        "512\n"
                    ]
                }
            ],
            "source": [
                "from TargetInfo import simd_bit_width\n",
                "print(simd_bit_width())"
            ]
        },
        {
            "attachments": {},
            "cell_type": "markdown",
            "metadata": {},
            "source": [
                "That means we could pack 64 8 bit numbers together and perform a single calculation on all of it."
            ]
        },
        {
            "attachments": {},
            "cell_type": "markdown",
            "metadata": {},
            "source": [
                "## Scalars"
            ]
        },
        {
            "attachments": {},
            "cell_type": "markdown",
            "metadata": {},
            "source": [
                "Scalar just means a single value, you'll notice in Mojo all the numerics are SIMD scalars:"
            ]
        },
        {
            "cell_type": "code",
            "execution_count": 17,
            "metadata": {},
            "outputs": [
                {
                    "name": "stderr",
                    "output_type": "stream",
                    "text": [
                        "error: \u001b[0;1;31m\u001b[1mExpression [17]:24:9: \u001b[0m\u001b[1mcannot implicitly convert 'StringLiteral' value to 'SIMD[ui8, 1]' in assignment\n",
                        "\u001b[0m    x = \"will cause an error\"\n",
                        "\u001b[0;1;32m        ^~~~~~~~~~~~~~~~~~~~~\n",
                        "\u001b[0m\u001b[0m\n"
                    ]
                }
            ],
            "source": [
                "var x = UInt8(1)\n",
                "x = \"will cause an error\""
            ]
        },
        {
            "attachments": {},
            "cell_type": "markdown",
            "metadata": {},
            "source": [
                "UInt8 is just an alias for `SIMD[DType.uint8, 1]`, you can see all the [numeric SIMD types imported by default here](https://docs.modular.com/mojo/MojoStdlib/SIMD.html)\n",
                "\n",
                "Also notice when we try and change the type it throws an error, this is because Mojo is `strongly typed`\n",
                "\n",
                "If we use existing Python modules, it will give us back a `PythonObject` that behaves the same `loosely typed` way as it does in Python:"
            ]
        },
        {
            "cell_type": "code",
            "execution_count": 18,
            "metadata": {},
            "outputs": [
                {
                    "name": "stdout",
                    "output_type": "stream",
                    "text": [
                        "[0.   0.25 0.5  0.75 1.  ]\n",
                        "this will work fine\n"
                    ]
                }
            ],
            "source": [
                "np = Python.import_module(\"numpy\")\n",
                "\n",
                "arr = np.ndarray([5])\n",
                "print(arr)\n",
                "arr = \"this will work fine\"\n",
                "print(arr)"
            ]
        },
        {
            "attachments": {},
            "cell_type": "markdown",
            "metadata": {},
            "source": [
                "## Strings\n",
                "In Mojo the heap allocated string isn't imported by default:"
            ]
        },
        {
            "cell_type": "code",
            "execution_count": 19,
            "metadata": {},
            "outputs": [
                {
                    "name": "stdout",
                    "output_type": "stream",
                    "text": [
                        "Mojo🔥\n"
                    ]
                }
            ],
            "source": [
                "from String import String\n",
                "\n",
                "s = String(\"Mojo🔥\")\n",
                "print(s)"
            ]
        },
        {
            "attachments": {},
            "cell_type": "markdown",
            "metadata": {},
            "source": [
                "`String` works similar to a normal python object, where it's actually a pointer to data that's allocated on the `heap`, this means we can load a huge amount of data into it, and change the size of the data dynamically.\n",
                "\n",
                "Let's cause a type error so you can see the data type underlying the String:"
            ]
        },
        {
            "cell_type": "code",
            "execution_count": 20,
            "metadata": {},
            "outputs": [
                {
                    "name": "stderr",
                    "output_type": "stream",
                    "text": [
                        "error: \u001b[0;1;31m\u001b[1mExpression [20]:26:10: \u001b[0m\u001b[1mcannot implicitly convert 'DynamicVector[SIMD[si8, 1]]' value to 'PythonObject' in assignment\n",
                        "\u001b[0m    x = s.buffer\n",
                        "\u001b[0;1;32m        ~^~~~~~~\n",
                        "\u001b[0m\u001b[0m\n"
                    ]
                }
            ],
            "source": [
                "x = s.buffer\n",
                "x = 20"
            ]
        },
        {
            "attachments": {},
            "cell_type": "markdown",
            "metadata": {},
            "source": [
                "`DynamicVector` is similar to a Python list, here it's storing `int8` that represent the characters, let's print the first character:"
            ]
        },
        {
            "cell_type": "code",
            "execution_count": 21,
            "metadata": {},
            "outputs": [
                {
                    "name": "stdout",
                    "output_type": "stream",
                    "text": [
                        "M\n"
                    ]
                }
            ],
            "source": [
                "print(s[0])"
            ]
        },
        {
            "attachments": {},
            "cell_type": "markdown",
            "metadata": {},
            "source": [
                "Now lets take a look at the decimal representation:"
            ]
        },
        {
            "cell_type": "code",
            "execution_count": 22,
            "metadata": {},
            "outputs": [
                {
                    "name": "stdout",
                    "output_type": "stream",
                    "text": [
                        "77\n"
                    ]
                }
            ],
            "source": [
                "from String import ord\n",
                "\n",
                "print(ord(s[0]))"
            ]
        },
        {
            "attachments": {},
            "cell_type": "markdown",
            "metadata": {},
            "source": [
                "That's the ASCII code [shown in this table](https://www.ascii-code.com/)\n",
                "\n",
                "We can build our own string this way, we can put in 78 which is N and 79 which is O"
            ]
        },
        {
            "cell_type": "code",
            "execution_count": 23,
            "metadata": {},
            "outputs": [],
            "source": [
                "from Vector import DynamicVector\n",
                "\n",
                "let vec = DynamicVector[Int8](2)\n",
                "\n",
                "vec.push_back(78)\n",
                "vec.push_back(79)"
            ]
        },
        {
            "attachments": {},
            "cell_type": "markdown",
            "metadata": {},
            "source": [
                "And use the pointer"
            ]
        },
        {
            "cell_type": "code",
            "execution_count": 24,
            "metadata": {},
            "outputs": [
                {
                    "name": "stdout",
                    "output_type": "stream",
                    "text": [
                        "NO\n"
                    ]
                }
            ],
            "source": [
                "vec_str = String(vec.data, 2)\n",
                "\n",
                "print(vec_str)"
            ]
        },
        {
            "attachments": {},
            "cell_type": "markdown",
            "metadata": {},
            "source": [
                "One thing to be aware of is that an emoji is actually four bytes, so we need a slice of 4 to have it print correctly:"
            ]
        },
        {
            "cell_type": "code",
            "execution_count": 25,
            "metadata": {},
            "outputs": [
                {
                    "name": "stdout",
                    "output_type": "stream",
                    "text": [
                        "fire: 🔥\n",
                        "smiley: 😀\n"
                    ]
                }
            ],
            "source": [
                "emoji = String(\"🔥😀\")\n",
                "print(\"fire:\", emoji[0:4])\n",
                "print(\"smiley:\", emoji[4:8])"
            ]
        },
        {
            "attachments": {},
            "cell_type": "markdown",
            "metadata": {},
            "source": [
                "Check out [Maxim Zaks Blog post](https://mzaks.medium.com/counting-chars-with-simd-in-mojo-140ee730bd4d) for more details."
            ]
        },
        {
            "attachments": {},
            "cell_type": "markdown",
            "metadata": {},
            "source": [
                "## Notes\n",
                "You can also initialize SIMD with a single argument:"
            ]
        },
        {
            "cell_type": "code",
            "execution_count": 26,
            "metadata": {},
            "outputs": [
                {
                    "name": "stdout",
                    "output_type": "stream",
                    "text": [
                        "[1, 1, 1, 1]\n"
                    ]
                }
            ],
            "source": [
                "z = SIMD[DType.uint8, 4](1)\n",
                "print(z)"
            ]
        },
        {
            "attachments": {},
            "cell_type": "markdown",
            "metadata": {},
            "source": [
                "Or do it in a loop:"
            ]
        },
        {
            "cell_type": "code",
            "execution_count": 27,
            "metadata": {},
            "outputs": [
                {
                    "name": "stdout",
                    "output_type": "stream",
                    "text": [
                        "[0, 0, 0, 0]\n",
                        "[1, 1, 1, 1]\n",
                        "[2, 2, 2, 2]\n"
                    ]
                }
            ],
            "source": [
                "for i in range(3):\n",
                "    print(SIMD[DType.uint16, 4](i))"
            ]
        },
        {
            "attachments": {},
            "cell_type": "markdown",
            "metadata": {},
            "source": [
                "## Exercises\n",
                "1. Create a SIMD of DType UInt8, 16 bytes wide and each value at 2, then multiply it by 8 and print it\n",
                "2. Create a loop using SIMD that prints four rows of data that looks like this:\n",
                "    [1,0,0,0]\n",
                "    [0,1,0,0]\n",
                "    [0,0,1,0]\n",
                "    [0,0,0,1]"
            ]
        },
        {
            "attachments": {},
            "cell_type": "markdown",
            "metadata": {},
            "source": [
                "## Solutions\n",
                "### Exercise 1"
            ]
        },
        {
            "cell_type": "code",
            "execution_count": 28,
            "metadata": {},
            "outputs": [
                {
                    "name": "stdout",
                    "output_type": "stream",
                    "text": [
                        "[16, 16, 16, 16, 16, 16, 16, 16, 16, 16, 16, 16, 16, 16, 16, 16]\n"
                    ]
                }
            ],
            "source": [
                "print(SIMD[DType.uint8, 16](2) * 8)"
            ]
        },
        {
            "attachments": {},
            "cell_type": "markdown",
            "metadata": {},
            "source": [
                "### Exercise 2"
            ]
        },
        {
            "cell_type": "code",
            "execution_count": 33,
            "metadata": {},
            "outputs": [
                {
                    "name": "stdout",
                    "output_type": "stream",
                    "text": [
                        "[1, 0, 0, 0]\n",
                        "[0, 1, 0, 0]\n",
                        "[0, 0, 1, 0]\n",
                        "[0, 0, 0, 1]\n"
                    ]
                }
            ],
            "source": [
                "for i in range(4):\n",
                "    simd = SIMD[DType.uint8, 4](0)\n",
                "    simd[i] = 1\n",
                "    print(simd)"
            ]
        }
    ],
    "metadata": {
        "kernelspec": {
            "display_name": "Mojo",
            "language": "mojo",
            "name": "mojo-jupyter-kernel"
        },
        "language_info": {
            "codemirror_mode": {
                "name": "mojo"
            },
            "file_extension": ".mojo",
            "mimetype": "text/x-mojo",
            "name": "mojo"
        },
        "orig_nbformat": 4
    },
    "nbformat": 4,
    "nbformat_minor": 2
}
