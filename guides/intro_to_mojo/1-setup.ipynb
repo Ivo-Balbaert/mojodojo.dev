{
 "cells": [
  {
   "attachments": {},
   "cell_type": "markdown",
   "metadata": {},
   "source": [
    "---\n",
    "title: '1: Setup'\n",
    "category: '1: Setup'\n",
    "usage: How to get access to the Mojo playground\n",
    "---\n",
    "\n",
    "# Intro to Mojo\n",
    "_This is in very early stages and under heavy development_\n",
    "\n",
    "This assumes some familiarity with a programming language like Python, but does not assume knowledge about Computer Science (CS). While it aims to be a stepping stone from Python to Mojo, unique Python concepts will be explained along the way for programmers from all backgrounds. Anything that explains CS fundamentals will be in a green box so you can skip over them if you already come from a systems programming background:\n",
    "\n",
    "::: tip CS Fundamentals\n",
    "This is related to a Computer Science topic that you'll need to be familiar with to understand how Mojo works at a much deeper level.\n",
    ":::\n",
    "\n",
    "## Getting Mojo Access \n",
    "- [Go to Modular Get Started](https://www.modular.com/get-started)\n",
    "- Fill out the form, tick Mojo and press submit\n",
    "- In a few days you'll get an email with a button `Access the Mojo Playground`\n",
    "- If you want VS Code access to your playground [follow this guide](/guides/general/mojo_playground_vscode.md)\n",
    "\n",
    "## Links\n",
    "- Join [the Modular Discord](https://discord.gg/modular), huge community to ask questions\n",
    "- Check out the [the Mojo Github](https://github.com/modularml/mojo) to see discussions, issues and proposals\n",
    "- [Read the Docs](https://docs.modular.com/mojo/) for all the official Mojo documentation\n"
   ]
  }
 ],
 "metadata": {
  "kernelspec": {
   "display_name": "Mojo",
   "language": "mojo",
   "name": "mojo-jupyter-kernel"
  },
  "language_info": {
   "codemirror_mode": {
    "name": "mojo"
   },
   "file_extension": ".mojo",
   "mimetype": "text/x-mojo",
   "name": "mojo"
  },
  "orig_nbformat": 4
 },
 "nbformat": 4,
 "nbformat_minor": 2
}
