{
 "cells": [
  {
   "cell_type": "markdown",
   "metadata": {},
   "source": [
    "---\n",
    "title: BuiltinList\n",
    "categories: Builtins\n",
    "usage: Implements the ListLiteral class. The type of a literal heterogenous list expression.\n",
    "---"
   ]
  },
  {
   "cell_type": "markdown",
   "metadata": {},
   "source": [
    "Contributed by [Lorenzobattistela](https://github.com/Lorenzobattistela)"
   ]
  },
  {
   "cell_type": "markdown",
   "metadata": {},
   "source": [
    "# ListLiteral\n",
    "\n",
    "The type of a literal heterogenous list expression.\n",
    "\n",
    "A list consists of zero or more values, separated by commas."
   ]
  },
  {
   "cell_type": "markdown",
   "metadata": {},
   "source": [
    "## init\n",
    "\n",
    "Note that we have to specify the types of the elements we want in our list. It can be homogeneous or heterogeneous."
   ]
  },
  {
   "cell_type": "code",
   "execution_count": 17,
   "metadata": {
    "vscode": {
     "languageId": "plaintext"
    }
   },
   "outputs": [
    {
     "name": "stdout",
     "output_type": "stream",
     "text": [
      "[1, 2, 3]\n",
      "['hey', 1.0, 3]\n",
      "[1, 2]\n"
     ]
    }
   ],
   "source": [
    "var a : ListLiteral[Int, Int, Int] = ListLiteral(1, 2, 3)\n",
    "print(a)\n",
    "\n",
    "var b : ListLiteral[StringLiteral, FloatLiteral, Int] = ListLiteral(\"hey\", 1.0, 3)\n",
    "print(b)\n",
    "\n",
    "var c : ListLiteral[Int, Int] = [1, 2]\n",
    "print(c)\n"
   ]
  },
  {
   "cell_type": "markdown",
   "metadata": {},
   "source": [
    "## fields\n",
    "\n",
    "- `storage`  The underlying storage for the list."
   ]
  },
  {
   "cell_type": "markdown",
   "metadata": {},
   "source": [
    "## len\n",
    "\n",
    "Returns the length of the list."
   ]
  },
  {
   "cell_type": "code",
   "execution_count": 19,
   "metadata": {
    "vscode": {
     "languageId": "plaintext"
    }
   },
   "outputs": [
    {
     "name": "stdout",
     "output_type": "stream",
     "text": [
      "2\n",
      "2\n"
     ]
    }
   ],
   "source": [
    "var x : ListLiteral[Int, Int] = [1, 2]\n",
    "print(x.__len__())\n",
    "print(len(x))"
   ]
  },
  {
   "cell_type": "markdown",
   "metadata": {},
   "source": [
    "## get\n",
    "\n",
    "Returns a list element at a given index.\n",
    "Note that we have to specify the index of the element and the type of the element we're retrieving. Refer to parametrization [here](https://docs.modular.com/mojo/programming-manual.html#defining-parameterized-types-and-functions)."
   ]
  },
  {
   "cell_type": "code",
   "execution_count": 25,
   "metadata": {
    "vscode": {
     "languageId": "plaintext"
    }
   },
   "outputs": [
    {
     "name": "stdout",
     "output_type": "stream",
     "text": [
      "3\n"
     ]
    }
   ],
   "source": [
    "var x : ListLiteral[Int, Int] = [3, 4]\n",
    "var y  = x.get[0, Int]()\n",
    "print(y)"
   ]
  }
 ],
 "metadata": {
  "kernelspec": {
   "display_name": "Mojo",
   "language": "mojo",
   "name": "mojo-jupyter-kernel"
  },
  "language_info": {
   "codemirror_mode": {
    "name": "mojo"
   },
   "file_extension": ".mojo",
   "mimetype": "text/x-mojo",
   "name": "mojo"
  },
  "orig_nbformat": 4
 },
 "nbformat": 4,
 "nbformat_minor": 2
}
