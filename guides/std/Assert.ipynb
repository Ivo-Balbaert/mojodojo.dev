{
    "cells": [
        {
            "attachments": {},
            "cell_type": "markdown",
            "metadata": {},
            "source": [
                "---\n",
                "title: Assert\n",
                "categories: Assert\n",
                "usage: Place constraints on functions that are checked at compile time, and check conditions only in debug builds\n",
                "---\n",
                "# Assert\n",
                "## assert_param\n",
                "Asserts that the condition is true in the `parameter / comptime` domain, used to place constraints on functions"
            ]
        },
        {
            "cell_type": "code",
            "execution_count": 1,
            "metadata": {},
            "outputs": [],
            "source": [
                "from Assert import assert_param"
            ]
        },
        {
            "attachments": {},
            "cell_type": "markdown",
            "metadata": {},
            "source": [
                "We can put compile time assertions in the ensure that the two numbers passed in are positive"
            ]
        },
        {
            "cell_type": "code",
            "execution_count": 2,
            "metadata": {},
            "outputs": [],
            "source": [
                "fn add_positives[x: Int, y: Int]() -> UInt8:\n",
                "    assert_param[x > 0]()\n",
                "    assert_param[y > 0]()\n",
                "    return x + y"
            ]
        },
        {
            "attachments": {},
            "cell_type": "markdown",
            "metadata": {},
            "source": [
                "Let's get the result that's calculated at compile time"
            ]
        },
        {
            "cell_type": "code",
            "execution_count": 3,
            "metadata": {},
            "outputs": [
                {
                    "name": "stdout",
                    "output_type": "stream",
                    "text": [
                        "6\n"
                    ]
                }
            ],
            "source": [
                "let res = add_positives[2, 4]()\n",
                "print(res)"
            ]
        },
        {
            "attachments": {},
            "cell_type": "markdown",
            "metadata": {},
            "source": [
                "Now we'll introduce the error so you can see how it looks, it will always be at the end of the error message:"
            ]
        },
        {
            "cell_type": "code",
            "execution_count": 8,
            "metadata": {},
            "outputs": [
                {
                    "name": "stderr",
                    "output_type": "stream",
                    "text": [
                        "error: \u001b[0;1;31m\u001b[1mExpression [8]:6:1: \u001b[0m\u001b[1mno viable expansions found\n",
                        "\u001b[0mfn __lldb_expr__(inout __mojo_repl_arg: __mojo_repl_context__):\n",
                        "\u001b[0;1;32m^\n",
                        "\u001b[0m\u001b[0m\n",
                        "\u001b[0;1;30m\u001b[1mExpression [8]:8:28: \u001b[0m\u001b[1m  call expansion failed - no concrete specializations\n",
                        "\u001b[0m    __mojo_repl_expr_impl__(__mojo_repl_arg, __get_address_as_lvalue(__mojo_repl_arg.`res`.load().address))\n",
                        "\u001b[0;1;32m                           ^\n",
                        "\u001b[0m\u001b[0m\n",
                        "\u001b[0;1;30m\u001b[1mExpression [8]:12:1: \u001b[0m\u001b[1m    no viable expansions found\n",
                        "\u001b[0mdef __mojo_repl_expr_impl__(inout __mojo_repl_arg: __mojo_repl_context__, inout `res`: __mlir_type.`!kgen.declref<@\"$SIMD\"::@SIMD<type: @\"$DType\"::@DType = #lit.struct<{value: dtype = ui8}>, size: @\"$Int\"::@Int = #lit.struct<{value: scalar<index> = 1}>>>`) -> None:\n",
                        "\u001b[0;1;32m^\n",
                        "\u001b[0m\u001b[0m\n",
                        "\u001b[0;1;30m\u001b[1mExpression [8]:19:26: \u001b[0m\u001b[1m      call expansion failed - no concrete specializations\n",
                        "\u001b[0m  __mojo_repl_expr_body__()\n",
                        "\u001b[0;1;32m                         ^\n",
                        "\u001b[0m\u001b[0m\n",
                        "\u001b[0;1;30m\u001b[1mExpression [8]:14:3: \u001b[0m\u001b[1m        no viable expansions found\n",
                        "\u001b[0m  def __mojo_repl_expr_body__() -> None:\n",
                        "\u001b[0;1;32m  ^\n",
                        "\u001b[0m\u001b[0m\n",
                        "\u001b[0;1;30m\u001b[1mExpression [8]:16:25: \u001b[0m\u001b[1m          call expansion failed - no concrete specializations\n",
                        "\u001b[0m    add_positives[-2, 4]()\n",
                        "\u001b[0;1;32m                        ^\n",
                        "\u001b[0m\u001b[0m\n",
                        "\u001b[0;1;30m\u001b[1mExpression [2]:5:1: \u001b[0m\u001b[1m            no viable expansions found\n",
                        "\u001b[0mfn add_positives[x: Int, y: Int]() -> UInt8:\n",
                        "\u001b[0;1;32m^\n",
                        "\u001b[0m\u001b[0m\n",
                        "\u001b[0;1;30m\u001b[1mExpression [2]:6:24: \u001b[0m\u001b[1m              constraint failed: param assertion failed\n",
                        "\u001b[0m    assert_param[x > 0]()\n",
                        "\u001b[0;1;32m                       ^\n",
                        "\u001b[0m\u001b[0m\n"
                    ]
                }
            ],
            "source": [
                "add_positives[-2, 4]()"
            ]
        },
        {
            "attachments": {},
            "cell_type": "markdown",
            "metadata": {},
            "source": [
                "## assert_param_msg\n",
                "\n",
                "This works the same way as [assert_param](#assert-param) but you can add a custom error message at the end:"
            ]
        },
        {
            "cell_type": "code",
            "execution_count": 9,
            "metadata": {},
            "outputs": [
                {
                    "name": "stderr",
                    "output_type": "stream",
                    "text": [
                        "error: \u001b[0;1;31m\u001b[1mExpression [9]:11:1: \u001b[0m\u001b[1mno viable expansions found\n",
                        "\u001b[0mfn __lldb_expr__(inout __mojo_repl_arg: __mojo_repl_context__):\n",
                        "\u001b[0;1;32m^\n",
                        "\u001b[0m\u001b[0m\n",
                        "\u001b[0;1;30m\u001b[1mExpression [9]:13:28: \u001b[0m\u001b[1m  call expansion failed - no concrete specializations\n",
                        "\u001b[0m    __mojo_repl_expr_impl__(__mojo_repl_arg, __get_address_as_lvalue(__mojo_repl_arg.`res`.load().address))\n",
                        "\u001b[0;1;32m                           ^\n",
                        "\u001b[0m\u001b[0m\n",
                        "\u001b[0;1;30m\u001b[1mExpression [9]:17:1: \u001b[0m\u001b[1m    no viable expansions found\n",
                        "\u001b[0mdef __mojo_repl_expr_impl__(inout __mojo_repl_arg: __mojo_repl_context__, inout `res`: __mlir_type.`!kgen.declref<@\"$SIMD\"::@SIMD<type: @\"$DType\"::@DType = #lit.struct<{value: dtype = ui8}>, size: @\"$Int\"::@Int = #lit.struct<{value: scalar<index> = 1}>>>`) -> None:\n",
                        "\u001b[0;1;32m^\n",
                        "\u001b[0m\u001b[0m\n",
                        "\u001b[0;1;30m\u001b[1mExpression [9]:25:26: \u001b[0m\u001b[1m      call expansion failed - no concrete specializations\n",
                        "\u001b[0m  __mojo_repl_expr_body__()\n",
                        "\u001b[0;1;32m                         ^\n",
                        "\u001b[0m\u001b[0m\n",
                        "\u001b[0;1;30m\u001b[1mExpression [9]:19:3: \u001b[0m\u001b[1m        no viable expansions found\n",
                        "\u001b[0m  def __mojo_repl_expr_body__() -> None:\n",
                        "\u001b[0;1;32m  ^\n",
                        "\u001b[0m\u001b[0m\n",
                        "\u001b[0;1;30m\u001b[1mExpression [9]:21:36: \u001b[0m\u001b[1m          call expansion failed - no concrete specializations\n",
                        "\u001b[0m    let res = add_positives[-2, -4]()\n",
                        "\u001b[0;1;32m                                   ^\n",
                        "\u001b[0m\u001b[0m\n",
                        "\u001b[0;1;30m\u001b[1mExpression [9]:6:1: \u001b[0m\u001b[1m            no viable expansions found\n",
                        "\u001b[0mfn add_positives[x: Int, y: Int]() -> UInt8:\n",
                        "\u001b[0;1;32m^\n",
                        "\u001b[0m\u001b[0m\n",
                        "\u001b[0;1;30m\u001b[1mExpression [9]:7:77: \u001b[0m\u001b[1m              constraint failed: x is not positve, use a positve number over 0\n",
                        "\u001b[0m    assert_param_msg[x > 0, \"x is not positve, use a positve number over 0\"]()\n",
                        "\u001b[0;1;32m                                                                            ^\n",
                        "\u001b[0m\u001b[0m\n"
                    ]
                }
            ],
            "source": [
                "from Assert import assert_param_msg\n",
                "\n",
                "fn add_positives[x: Int, y: Int]() -> UInt8:\n",
                "    assert_param_msg[x > 0, \"x is not positve, use a positve number over 0\"]()\n",
                "    return x + y\n",
                "\n",
                "let res = add_positives[-2, -4]()\n",
                "print(res)"
            ]
        },
        {
            "attachments": {},
            "cell_type": "markdown",
            "metadata": {},
            "source": [
                "## debug_assert\n",
                "Asserts that the condition is true in debug builds, and is removed from the compilation process in release builds"
            ]
        },
        {
            "cell_type": "code",
            "execution_count": 10,
            "metadata": {},
            "outputs": [],
            "source": [
                "from Assert import debug_assert\n",
                "\n",
                "fn test_debug_assert[x: Int](y: Int):\n",
                "    debug_assert(x == 42, \"x is not equal to 42\")\n",
                "    debug_assert(y == 42, \"y is not equal to 42\")\n",
                "\n",
                "\n",
                "test_debug_assert[1](2)"
            ]
        },
        {
            "attachments": {},
            "cell_type": "markdown",
            "metadata": {},
            "source": [
                "debug_assert doesn't work in the playground because it's not a debug build."
            ]
        }
    ],
    "metadata": {
        "kernelspec": {
            "display_name": "Mojo",
            "language": "mojo",
            "name": "mojo-jupyter-kernel"
        },
        "language_info": {
            "codemirror_mode": {
                "name": "mojo"
            },
            "file_extension": ".mojo",
            "mimetype": "text/x-mojo",
            "name": "mojo"
        },
        "orig_nbformat": 4
    },
    "nbformat": 4,
    "nbformat_minor": 2
}
